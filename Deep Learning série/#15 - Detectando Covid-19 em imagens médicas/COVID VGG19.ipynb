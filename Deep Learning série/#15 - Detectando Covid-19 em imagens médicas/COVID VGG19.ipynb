{
 "cells": [
  {
   "cell_type": "markdown",
   "metadata": {},
   "source": [
    "## REFERÊNCIAS"
   ]
  },
  {
   "cell_type": "markdown",
   "metadata": {},
   "source": [
    "IDEIA ORIGINAL: <br/>\n",
    "Adam Rosembrock <br/>\n",
    "pyimagesearch.com - \n",
    "https://www.pyimagesearch.com/2020/03/16/detecting-covid-19-in-x-ray-images-with-keras-tensorflow-and-deep-learning/\n",
    "\n",
    "\n"
   ]
  },
  {
   "cell_type": "markdown",
   "metadata": {},
   "source": [
    "## ATENÇÃO\n",
    "\n",
    "Os métodos e técnicas usados neste vídeo são apenas para fins educacionais. Esse não é um estudo cientificamente rigoroso, nem será publicado em uma revista científica´."
   ]
  },
  {
   "cell_type": "markdown",
   "metadata": {},
   "source": [
    "## AGENDA\n",
    "\n",
    "Dentro do tutorial de hoje, você aprenderá como:\n",
    "\n",
    "- Abrir uma base de imagens de raio-X  (open data) de pacientes com resultado POSITIVO para COVID-19 e imagens de pacientes com resultado NEGATIVO.\n",
    "\n",
    "\n",
    "- Dividir o dataset de imagens em conjunto de teste e conjunto de treino \n",
    "\n",
    "\n",
    "- Aplicar a técnica de aumento de dados (Data Augmentation)\n",
    "\n",
    "\n",
    "\n",
    "- Aplicar a técnica de transferência de inteligência entre redes neurais (Transfer Learning)\n",
    "\n",
    "\n",
    "- Treinar uma Rede Neural Convolucional com o Tensorflow/Keras para detectar automaticamente o COVID-19 em imagens de raios-X \n",
    "\n",
    "\n",
    "- Avaliar os resultados sob uma perspectiva educacional"
   ]
  },
  {
   "cell_type": "markdown",
   "metadata": {},
   "source": [
    "## importações de bibliotecas"
   ]
  },
  {
   "cell_type": "code",
   "execution_count": 26,
   "metadata": {},
   "outputs": [],
   "source": [
    "from PIL import Image\n",
    "from os import listdir\n",
    "from os.path import isdir\n",
    "import numpy as np\n",
    "from sklearn.model_selection import train_test_split\n",
    "from sklearn.preprocessing import LabelBinarizer\n",
    "from tensorflow.keras.preprocessing.image import ImageDataGenerator\n",
    "from tensorflow.keras.applications import VGG19\n",
    "from tensorflow.keras.utils import to_categorical\n",
    "from tensorflow.keras import layers\n",
    "from tensorflow.keras import models\n",
    "from tensorflow.keras import optimizers"
   ]
  },
  {
   "cell_type": "markdown",
   "metadata": {},
   "source": [
    "### Carregando uma imagem"
   ]
  },
  {
   "cell_type": "code",
   "execution_count": 27,
   "metadata": {},
   "outputs": [],
   "source": [
    "def select_image(filename):\n",
    "    # load image from file\n",
    "    image = Image.open(filename)\n",
    "    # convert to RGB, if needed\n",
    "    image = image.convert('RGB')\n",
    "    image = image.resize((150,150))\n",
    "    # convert to array\n",
    "    return np.asarray(image)"
   ]
  },
  {
   "cell_type": "markdown",
   "metadata": {},
   "source": [
    "### Carregando uma classe"
   ]
  },
  {
   "cell_type": "code",
   "execution_count": 28,
   "metadata": {},
   "outputs": [],
   "source": [
    "def load_classes(diretorio, classe, imagens, labels):\n",
    "    # iterando arquivos\n",
    "\n",
    "    for filename in listdir(diretorio):\n",
    "\n",
    "        path = diretorio + filename\n",
    "\n",
    "        try:\n",
    "            imagens.append(select_image(path))\n",
    "            labels.append(classe)\n",
    "        except:\n",
    "            print(\"Erro ao ler imagem {}\".format(path))\n",
    "\n",
    "    return imagens, labels"
   ]
  },
  {
   "cell_type": "markdown",
   "metadata": {},
   "source": [
    "### Selecionando Dataset"
   ]
  },
  {
   "cell_type": "code",
   "execution_count": 29,
   "metadata": {},
   "outputs": [],
   "source": [
    "def select_data_set(diretorio):\n",
    "\n",
    "    imagens = list()\n",
    "    labels = list()\n",
    "\n",
    "    for subdir in listdir(diretorio):\n",
    "        # path\n",
    "        path = diretorio + subdir + '\\\\'\n",
    "\n",
    "        if not isdir(path):\n",
    "            continue\n",
    "        imagens, labels = load_classes(path, subdir, imagens, labels)\n",
    "\n",
    "    return imagens, labels"
   ]
  },
  {
   "cell_type": "markdown",
   "metadata": {},
   "source": [
    "### Carregando dataset Covid-19"
   ]
  },
  {
   "cell_type": "code",
   "execution_count": 30,
   "metadata": {},
   "outputs": [],
   "source": [
    "covid_dataset = \"D:\\\\dataset\\\\covid-sandeco\\\\images\\\\\"\n",
    "imagens, labels  = select_data_set(covid_dataset)\n",
    "imagens = np.array(imagens) / 255.0  ## convertendo de lista para array\n",
    "labels = np.array(labels)  ## convertendo de lista para array"
   ]
  },
  {
   "cell_type": "markdown",
   "metadata": {},
   "source": [
    "### Tratando classes - Labels"
   ]
  },
  {
   "cell_type": "code",
   "execution_count": 31,
   "metadata": {},
   "outputs": [],
   "source": [
    "lb = LabelBinarizer()\n",
    "labels = lb.fit_transform(labels)\n",
    "labels = to_categorical(labels)"
   ]
  },
  {
   "cell_type": "markdown",
   "metadata": {},
   "source": [
    "### Definindo hyperparametros"
   ]
  },
  {
   "cell_type": "code",
   "execution_count": 32,
   "metadata": {},
   "outputs": [],
   "source": [
    "batch_size   = 32\n",
    "input_shape  = (150, 150, 3)\n",
    "random_state = 42\n",
    "alpha        = 1e-5\n",
    "epoch        = 100"
   ]
  },
  {
   "cell_type": "markdown",
   "metadata": {},
   "source": [
    "## CALLBACKS\n",
    "\n",
    "Callback são classes que auxiliam o treinamento do modelo usando o Keras. As classes que usaremos são:\n",
    "\n",
    "- ModelCheckpoint\n",
    "- ReduceLROnPlateau\n",
    "- EarlyStopping"
   ]
  },
  {
   "cell_type": "code",
   "execution_count": 33,
   "metadata": {},
   "outputs": [],
   "source": [
    "from tensorflow.keras.callbacks import ModelCheckpoint, ReduceLROnPlateau"
   ]
  },
  {
   "cell_type": "markdown",
   "metadata": {},
   "source": [
    "#### ModelCheckpoint\n",
    "\n",
    "ModelCheckpoint nos ajudará a salvar o modelo para cada época, para que possamos treinar nosso modelo e não nos preocuparmos com possíveis problemas que possam acontecer, como travamento da máquina.\n",
    "\n",
    "- **filepath**: onde será salvo o modelo\n",
    "- **monitor**: métrica a ser monitorada\n",
    "- **verbose**: (1) mostra na barra de progresso (0) não\n",
    "- **save_best_only**: Salvar somente o melhor modelo\n",
    "- **mode**: como vamos monitorar o 'val_acc' o valor aqui vai ser 'max'. Queremos a máxima acurácia.\n"
   ]
  },
  {
   "cell_type": "code",
   "execution_count": 34,
   "metadata": {},
   "outputs": [],
   "source": [
    "filepath=\"transferlearning_weights.hdf5\"\n",
    "checkpoint = ModelCheckpoint(filepath, monitor='val_acc', verbose=1, save_best_only=True, mode='max')"
   ]
  },
  {
   "cell_type": "markdown",
   "metadata": {},
   "source": [
    "#### ReduceLROnPlateau\n",
    "\n",
    "Nos auxiliara a reduzir a taxa de aprendizado pelo fator (factor) caso não ocorra a mudança no loss.\n",
    "\n",
    "- **monitor**: métrica a ser monitorada\n",
    "- **factor**: fator de redução caso estejamos em um plator\n",
    "- **min_delta**: valor mínimo da perda\n",
    "- **patience**: só altere pelo fator após se repitir por 'patience' vezes.\n",
    "- **verbose**: (1) mostra na barra de progresso (0) não\n"
   ]
  },
  {
   "cell_type": "code",
   "execution_count": 35,
   "metadata": {},
   "outputs": [],
   "source": [
    "lr_reduce = ReduceLROnPlateau(monitor='val_acc', factor=0.1, min_delta=alpha, patience=5, verbose=1)"
   ]
  },
  {
   "cell_type": "markdown",
   "metadata": {},
   "source": [
    "### Array de Callbacks"
   ]
  },
  {
   "cell_type": "code",
   "execution_count": 36,
   "metadata": {},
   "outputs": [],
   "source": [
    "callbacks = [checkpoint, lr_reduce]"
   ]
  },
  {
   "cell_type": "markdown",
   "metadata": {},
   "source": [
    "### Particionando dataset em teste e treino"
   ]
  },
  {
   "cell_type": "code",
   "execution_count": 37,
   "metadata": {},
   "outputs": [],
   "source": [
    "(trainX, testX, trainY, testY) = train_test_split(imagens, labels, test_size=0.20, stratify=labels, random_state=random_state)"
   ]
  },
  {
   "cell_type": "markdown",
   "metadata": {},
   "source": [
    "## DATA AUGMENTATION"
   ]
  },
  {
   "cell_type": "code",
   "execution_count": 38,
   "metadata": {},
   "outputs": [],
   "source": [
    "train_datagen = ImageDataGenerator(\n",
    "        rotation_range=20,\n",
    "        zoom_range=0.2)\n",
    "\n",
    "train_datagen.fit(trainX)\n",
    "\n",
    "data_aug = train_datagen.flow(trainX, trainY, batch_size=batch_size)"
   ]
  },
  {
   "cell_type": "markdown",
   "metadata": {},
   "source": [
    "## TRANSFER LEARNING"
   ]
  },
  {
   "cell_type": "code",
   "execution_count": 39,
   "metadata": {},
   "outputs": [],
   "source": [
    "conv_base = VGG19(weights='imagenet', include_top=False, input_shape=input_shape)"
   ]
  },
  {
   "cell_type": "code",
   "execution_count": 40,
   "metadata": {},
   "outputs": [
    {
     "name": "stdout",
     "output_type": "stream",
     "text": [
      "Model: \"vgg19\"\n",
      "_________________________________________________________________\n",
      "Layer (type)                 Output Shape              Param #   \n",
      "=================================================================\n",
      "input_2 (InputLayer)         [(None, 150, 150, 3)]     0         \n",
      "_________________________________________________________________\n",
      "block1_conv1 (Conv2D)        (None, 150, 150, 64)      1792      \n",
      "_________________________________________________________________\n",
      "block1_conv2 (Conv2D)        (None, 150, 150, 64)      36928     \n",
      "_________________________________________________________________\n",
      "block1_pool (MaxPooling2D)   (None, 75, 75, 64)        0         \n",
      "_________________________________________________________________\n",
      "block2_conv1 (Conv2D)        (None, 75, 75, 128)       73856     \n",
      "_________________________________________________________________\n",
      "block2_conv2 (Conv2D)        (None, 75, 75, 128)       147584    \n",
      "_________________________________________________________________\n",
      "block2_pool (MaxPooling2D)   (None, 37, 37, 128)       0         \n",
      "_________________________________________________________________\n",
      "block3_conv1 (Conv2D)        (None, 37, 37, 256)       295168    \n",
      "_________________________________________________________________\n",
      "block3_conv2 (Conv2D)        (None, 37, 37, 256)       590080    \n",
      "_________________________________________________________________\n",
      "block3_conv3 (Conv2D)        (None, 37, 37, 256)       590080    \n",
      "_________________________________________________________________\n",
      "block3_conv4 (Conv2D)        (None, 37, 37, 256)       590080    \n",
      "_________________________________________________________________\n",
      "block3_pool (MaxPooling2D)   (None, 18, 18, 256)       0         \n",
      "_________________________________________________________________\n",
      "block4_conv1 (Conv2D)        (None, 18, 18, 512)       1180160   \n",
      "_________________________________________________________________\n",
      "block4_conv2 (Conv2D)        (None, 18, 18, 512)       2359808   \n",
      "_________________________________________________________________\n",
      "block4_conv3 (Conv2D)        (None, 18, 18, 512)       2359808   \n",
      "_________________________________________________________________\n",
      "block4_conv4 (Conv2D)        (None, 18, 18, 512)       2359808   \n",
      "_________________________________________________________________\n",
      "block4_pool (MaxPooling2D)   (None, 9, 9, 512)         0         \n",
      "_________________________________________________________________\n",
      "block5_conv1 (Conv2D)        (None, 9, 9, 512)         2359808   \n",
      "_________________________________________________________________\n",
      "block5_conv2 (Conv2D)        (None, 9, 9, 512)         2359808   \n",
      "_________________________________________________________________\n",
      "block5_conv3 (Conv2D)        (None, 9, 9, 512)         2359808   \n",
      "_________________________________________________________________\n",
      "block5_conv4 (Conv2D)        (None, 9, 9, 512)         2359808   \n",
      "_________________________________________________________________\n",
      "block5_pool (MaxPooling2D)   (None, 4, 4, 512)         0         \n",
      "=================================================================\n",
      "Total params: 20,024,384\n",
      "Trainable params: 20,024,384\n",
      "Non-trainable params: 0\n",
      "_________________________________________________________________\n"
     ]
    }
   ],
   "source": [
    "conv_base.summary()"
   ]
  },
  {
   "cell_type": "markdown",
   "metadata": {},
   "source": [
    "### Retreinando parte da VGG19\n",
    "\n",
    "\n",
    "explicar aqui"
   ]
  },
  {
   "cell_type": "code",
   "execution_count": 41,
   "metadata": {},
   "outputs": [],
   "source": [
    "conv_base.trainable = True\n",
    "set_trainable = False\n",
    "\n",
    "for layer in conv_base.layers:\n",
    "  if layer.name == 'block5_conv1':\n",
    "    set_trainable = True\n",
    "  if set_trainable:\n",
    "    layer.trainable = True\n",
    "  else:\n",
    "    layer.trainable = False"
   ]
  },
  {
   "cell_type": "code",
   "execution_count": 42,
   "metadata": {},
   "outputs": [
    {
     "name": "stdout",
     "output_type": "stream",
     "text": [
      "Model: \"vgg19\"\n",
      "_________________________________________________________________\n",
      "Layer (type)                 Output Shape              Param #   \n",
      "=================================================================\n",
      "input_2 (InputLayer)         [(None, 150, 150, 3)]     0         \n",
      "_________________________________________________________________\n",
      "block1_conv1 (Conv2D)        (None, 150, 150, 64)      1792      \n",
      "_________________________________________________________________\n",
      "block1_conv2 (Conv2D)        (None, 150, 150, 64)      36928     \n",
      "_________________________________________________________________\n",
      "block1_pool (MaxPooling2D)   (None, 75, 75, 64)        0         \n",
      "_________________________________________________________________\n",
      "block2_conv1 (Conv2D)        (None, 75, 75, 128)       73856     \n",
      "_________________________________________________________________\n",
      "block2_conv2 (Conv2D)        (None, 75, 75, 128)       147584    \n",
      "_________________________________________________________________\n",
      "block2_pool (MaxPooling2D)   (None, 37, 37, 128)       0         \n",
      "_________________________________________________________________\n",
      "block3_conv1 (Conv2D)        (None, 37, 37, 256)       295168    \n",
      "_________________________________________________________________\n",
      "block3_conv2 (Conv2D)        (None, 37, 37, 256)       590080    \n",
      "_________________________________________________________________\n",
      "block3_conv3 (Conv2D)        (None, 37, 37, 256)       590080    \n",
      "_________________________________________________________________\n",
      "block3_conv4 (Conv2D)        (None, 37, 37, 256)       590080    \n",
      "_________________________________________________________________\n",
      "block3_pool (MaxPooling2D)   (None, 18, 18, 256)       0         \n",
      "_________________________________________________________________\n",
      "block4_conv1 (Conv2D)        (None, 18, 18, 512)       1180160   \n",
      "_________________________________________________________________\n",
      "block4_conv2 (Conv2D)        (None, 18, 18, 512)       2359808   \n",
      "_________________________________________________________________\n",
      "block4_conv3 (Conv2D)        (None, 18, 18, 512)       2359808   \n",
      "_________________________________________________________________\n",
      "block4_conv4 (Conv2D)        (None, 18, 18, 512)       2359808   \n",
      "_________________________________________________________________\n",
      "block4_pool (MaxPooling2D)   (None, 9, 9, 512)         0         \n",
      "_________________________________________________________________\n",
      "block5_conv1 (Conv2D)        (None, 9, 9, 512)         2359808   \n",
      "_________________________________________________________________\n",
      "block5_conv2 (Conv2D)        (None, 9, 9, 512)         2359808   \n",
      "_________________________________________________________________\n",
      "block5_conv3 (Conv2D)        (None, 9, 9, 512)         2359808   \n",
      "_________________________________________________________________\n",
      "block5_conv4 (Conv2D)        (None, 9, 9, 512)         2359808   \n",
      "_________________________________________________________________\n",
      "block5_pool (MaxPooling2D)   (None, 4, 4, 512)         0         \n",
      "=================================================================\n",
      "Total params: 20,024,384\n",
      "Trainable params: 9,439,232\n",
      "Non-trainable params: 10,585,152\n",
      "_________________________________________________________________\n"
     ]
    }
   ],
   "source": [
    "conv_base.summary()"
   ]
  },
  {
   "cell_type": "markdown",
   "metadata": {},
   "source": [
    "## CRIANDO O MODELO COM A VGG19 COMO BASE"
   ]
  },
  {
   "cell_type": "code",
   "execution_count": 43,
   "metadata": {},
   "outputs": [
    {
     "name": "stdout",
     "output_type": "stream",
     "text": [
      "WARNING:tensorflow:Large dropout rate: 0.6 (>0.5). In TensorFlow 2.x, dropout() uses dropout rate instead of keep_prob. Please ensure that this is intended.\n"
     ]
    }
   ],
   "source": [
    "model = models.Sequential()\n",
    "model.add(conv_base)\n",
    "model.add(layers.GlobalAveragePooling2D())\n",
    "model.add(layers.BatchNormalization())\n",
    "model.add(layers.Flatten())\n",
    "model.add(layers.Dense(128, activation='relu'))\n",
    "model.add(layers.Dropout(0.6))\n",
    "model.add(layers.Dense(2, activation='softmax'))"
   ]
  },
  {
   "cell_type": "code",
   "execution_count": 44,
   "metadata": {},
   "outputs": [
    {
     "name": "stdout",
     "output_type": "stream",
     "text": [
      "Model: \"sequential_1\"\n",
      "_________________________________________________________________\n",
      "Layer (type)                 Output Shape              Param #   \n",
      "=================================================================\n",
      "vgg19 (Model)                (None, 4, 4, 512)         20024384  \n",
      "_________________________________________________________________\n",
      "global_average_pooling2d_1 ( (None, 512)               0         \n",
      "_________________________________________________________________\n",
      "batch_normalization_1 (Batch (None, 512)               2048      \n",
      "_________________________________________________________________\n",
      "flatten_1 (Flatten)          (None, 512)               0         \n",
      "_________________________________________________________________\n",
      "dense_2 (Dense)              (None, 128)               65664     \n",
      "_________________________________________________________________\n",
      "dropout_1 (Dropout)          (None, 128)               0         \n",
      "_________________________________________________________________\n",
      "dense_3 (Dense)              (None, 2)                 258       \n",
      "=================================================================\n",
      "Total params: 20,092,354\n",
      "Trainable params: 9,506,178\n",
      "Non-trainable params: 10,586,176\n",
      "_________________________________________________________________\n"
     ]
    }
   ],
   "source": [
    "model.summary()"
   ]
  },
  {
   "cell_type": "markdown",
   "metadata": {},
   "source": [
    "## COMPILANDO O MODELO"
   ]
  },
  {
   "cell_type": "code",
   "execution_count": 45,
   "metadata": {},
   "outputs": [],
   "source": [
    "model.compile(loss='binary_crossentropy',\n",
    "                  optimizer='adam',\n",
    "                  metrics=['acc'])"
   ]
  },
  {
   "cell_type": "markdown",
   "metadata": {},
   "source": [
    "## TREINANDO O MODELO\n",
    "\n",
    "***Obs: não treinar na hora da live***"
   ]
  },
  {
   "cell_type": "code",
   "execution_count": 46,
   "metadata": {},
   "outputs": [
    {
     "name": "stdout",
     "output_type": "stream",
     "text": [
      "Epoch 1/100\n",
      "2/3 [===================>..........] - ETA: 0s - loss: 0.7788 - acc: 0.4922Epoch 1/100\n",
      "26/3 [====================================================================================================================================================================================================================================================================] - 0s 13ms/sample - loss: 1.6575 - acc: 0.5000\n",
      "\n",
      "Epoch 00001: val_acc improved from -inf to 0.50000, saving model to transferlearning_weights.hdf5\n",
      "3/3 [==============================] - 3s 841ms/step - loss: 0.6585 - acc: 0.5286 - val_loss: 1.3463 - val_acc: 0.5000\n",
      "Epoch 2/100\n",
      "2/3 [===================>..........] - ETA: 0s - loss: 0.1965 - acc: 0.9211Epoch 1/100\n",
      "26/3 [====================================================================================================================================================================================================================================================================] - 0s 4ms/sample - loss: 1.5400 - acc: 0.8077\n",
      "\n",
      "Epoch 00002: val_acc improved from 0.50000 to 0.80769, saving model to transferlearning_weights.hdf5\n",
      "3/3 [==============================] - 1s 249ms/step - loss: 0.2221 - acc: 0.9000 - val_loss: 1.5400 - val_acc: 0.8077\n",
      "Epoch 3/100\n",
      "2/3 [===================>..........] - ETA: 0s - loss: 0.2141 - acc: 0.9062Epoch 1/100\n",
      "26/3 [====================================================================================================================================================================================================================================================================] - 0s 7ms/sample - loss: 0.1235 - acc: 0.9808\n",
      "\n",
      "Epoch 00003: val_acc improved from 0.80769 to 0.98077, saving model to transferlearning_weights.hdf5\n",
      "3/3 [==============================] - 1s 283ms/step - loss: 0.1710 - acc: 0.9143 - val_loss: 0.0725 - val_acc: 0.9808\n",
      "Epoch 4/100\n",
      "2/3 [===================>..........] - ETA: 0s - loss: 0.1606 - acc: 0.9453Epoch 1/100\n",
      "26/3 [====================================================================================================================================================================================================================================================================] - 0s 5ms/sample - loss: 29.2789 - acc: 0.5000\n",
      "\n",
      "Epoch 00004: val_acc did not improve from 0.98077\n",
      "3/3 [==============================] - 1s 190ms/step - loss: 0.1370 - acc: 0.9583 - val_loss: 29.2789 - val_acc: 0.5000\n",
      "Epoch 5/100\n",
      "2/3 [===================>..........] - ETA: 0s - loss: 0.1875 - acc: 0.9062Epoch 1/100\n",
      "26/3 [====================================================================================================================================================================================================================================================================] - 0s 4ms/sample - loss: 26.8269 - acc: 0.5000\n",
      "\n",
      "Epoch 00005: val_acc did not improve from 0.98077\n",
      "3/3 [==============================] - 1s 193ms/step - loss: 0.1822 - acc: 0.9167 - val_loss: 26.8269 - val_acc: 0.5000\n",
      "Epoch 6/100\n",
      "2/3 [===================>..........] - ETA: 0s - loss: 0.0393 - acc: 1.0000Epoch 1/100\n",
      "26/3 [====================================================================================================================================================================================================================================================================] - 0s 4ms/sample - loss: 21.5697 - acc: 0.5000\n",
      "\n",
      "Epoch 00006: val_acc did not improve from 0.98077\n",
      "3/3 [==============================] - 1s 207ms/step - loss: 0.0738 - acc: 0.9714 - val_loss: 21.5697 - val_acc: 0.5000\n",
      "Epoch 7/100\n",
      "2/3 [===================>..........] - ETA: 0s - loss: 0.2841 - acc: 0.9342Epoch 1/100\n",
      "26/3 [====================================================================================================================================================================================================================================================================] - 0s 4ms/sample - loss: 9.8648 - acc: 0.5192\n",
      "\n",
      "Epoch 00007: val_acc did not improve from 0.98077\n",
      "3/3 [==============================] - 0s 159ms/step - loss: 0.1883 - acc: 0.9500 - val_loss: 9.8648 - val_acc: 0.5192\n",
      "Epoch 8/100\n",
      "2/3 [===================>..........] - ETA: 0s - loss: 0.0789 - acc: 1.0000Epoch 1/100\n",
      "26/3 [====================================================================================================================================================================================================================================================================] - 0s 4ms/sample - loss: 14.4294 - acc: 0.5000\n",
      "\n",
      "Epoch 00008: val_acc did not improve from 0.98077\n",
      "\n",
      "Epoch 00008: ReduceLROnPlateau reducing learning rate to 0.00010000000474974513.\n",
      "3/3 [==============================] - 1s 192ms/step - loss: 0.1282 - acc: 0.9714 - val_loss: 14.4294 - val_acc: 0.5000\n",
      "Epoch 9/100\n",
      "2/3 [===================>..........] - ETA: 0s - loss: 0.1365 - acc: 0.9453Epoch 1/100\n",
      "26/3 [====================================================================================================================================================================================================================================================================] - 0s 4ms/sample - loss: 9.3561 - acc: 0.5000\n",
      "\n",
      "Epoch 00009: val_acc did not improve from 0.98077\n",
      "3/3 [==============================] - 1s 193ms/step - loss: 0.1118 - acc: 0.9531 - val_loss: 9.3561 - val_acc: 0.5000\n",
      "Epoch 10/100\n",
      "2/3 [===================>..........] - ETA: 0s - loss: 0.0590 - acc: 1.0000Epoch 1/100\n",
      "26/3 [====================================================================================================================================================================================================================================================================] - 0s 7ms/sample - loss: 10.9349 - acc: 0.5000\n",
      "\n",
      "Epoch 00010: val_acc did not improve from 0.98077\n",
      "3/3 [==============================] - 1s 190ms/step - loss: 0.0534 - acc: 1.0000 - val_loss: 7.7791 - val_acc: 0.5000\n",
      "Epoch 11/100\n",
      "2/3 [===================>..........] - ETA: 0s - loss: 0.1910 - acc: 0.9531Epoch 1/100\n",
      "26/3 [====================================================================================================================================================================================================================================================================] - 0s 7ms/sample - loss: 8.9405 - acc: 0.5385\n",
      "\n",
      "Epoch 00011: val_acc did not improve from 0.98077\n",
      "3/3 [==============================] - 1s 178ms/step - loss: 0.1633 - acc: 0.9571 - val_loss: 6.0568 - val_acc: 0.5385\n",
      "Epoch 12/100\n",
      "2/3 [===================>..........] - ETA: 0s - loss: 0.0406 - acc: 0.9922Epoch 1/100\n",
      "26/3 [====================================================================================================================================================================================================================================================================] - 0s 5ms/sample - loss: 4.9010 - acc: 0.5385\n",
      "\n",
      "Epoch 00012: val_acc did not improve from 0.98077\n",
      "3/3 [==============================] - 1s 193ms/step - loss: 0.0422 - acc: 0.9948 - val_loss: 4.9010 - val_acc: 0.5385\n",
      "Epoch 13/100\n",
      "2/3 [===================>..........] - ETA: 0s - loss: 0.3915 - acc: 0.8947Epoch 1/100\n",
      "26/3 [====================================================================================================================================================================================================================================================================] - 0s 5ms/sample - loss: 3.9562 - acc: 0.5577\n",
      "\n",
      "Epoch 00013: val_acc did not improve from 0.98077\n",
      "\n",
      "Epoch 00013: ReduceLROnPlateau reducing learning rate to 1.0000000474974514e-05.\n",
      "3/3 [==============================] - 1s 169ms/step - loss: 0.2360 - acc: 0.9429 - val_loss: 3.9562 - val_acc: 0.5577\n",
      "Epoch 14/100\n",
      "2/3 [===================>..........] - ETA: 0s - loss: 0.0346 - acc: 1.0000Epoch 1/100\n",
      "26/3 [====================================================================================================================================================================================================================================================================] - 0s 5ms/sample - loss: 3.2279 - acc: 0.5769\n"
     ]
    },
    {
     "name": "stdout",
     "output_type": "stream",
     "text": [
      "\n",
      "Epoch 00014: val_acc did not improve from 0.98077\n",
      "3/3 [==============================] - 1s 184ms/step - loss: 0.0417 - acc: 0.9929 - val_loss: 3.2279 - val_acc: 0.5769\n",
      "Epoch 15/100\n",
      "2/3 [===================>..........] - ETA: 0s - loss: 0.0869 - acc: 0.9688Epoch 1/100\n",
      "26/3 [====================================================================================================================================================================================================================================================================] - 0s 5ms/sample - loss: 2.7261 - acc: 0.5962\n",
      "\n",
      "Epoch 00015: val_acc did not improve from 0.98077\n",
      "3/3 [==============================] - 1s 206ms/step - loss: 0.0669 - acc: 0.9792 - val_loss: 2.7261 - val_acc: 0.5962\n",
      "Epoch 16/100\n",
      "2/3 [===================>..........] - ETA: 0s - loss: 0.1221 - acc: 0.9605Epoch 1/100\n",
      "26/3 [====================================================================================================================================================================================================================================================================] - 0s 4ms/sample - loss: 2.6181 - acc: 0.5962\n",
      "\n",
      "Epoch 00016: val_acc did not improve from 0.98077\n",
      "3/3 [==============================] - 0s 165ms/step - loss: 0.1338 - acc: 0.9643 - val_loss: 2.6181 - val_acc: 0.5962\n",
      "Epoch 17/100\n",
      "2/3 [===================>..........] - ETA: 0s - loss: 0.0843 - acc: 0.9688Epoch 1/100\n",
      "26/3 [====================================================================================================================================================================================================================================================================] - 0s 7ms/sample - loss: 5.1387 - acc: 0.6154\n",
      "\n",
      "Epoch 00017: val_acc did not improve from 0.98077\n",
      "3/3 [==============================] - 1s 186ms/step - loss: 0.0808 - acc: 0.9714 - val_loss: 3.0239 - val_acc: 0.6154\n",
      "Epoch 18/100\n",
      "2/3 [===================>..........] - ETA: 0s - loss: 0.0268 - acc: 1.0000Epoch 1/100\n",
      "26/3 [====================================================================================================================================================================================================================================================================] - 0s 5ms/sample - loss: 2.1612 - acc: 0.6154\n",
      "\n",
      "Epoch 00018: val_acc did not improve from 0.98077\n",
      "\n",
      "Epoch 00018: ReduceLROnPlateau reducing learning rate to 1.0000000656873453e-06.\n",
      "3/3 [==============================] - 1s 195ms/step - loss: 0.0336 - acc: 0.9896 - val_loss: 2.1612 - val_acc: 0.6154\n",
      "Epoch 19/100\n",
      "2/3 [===================>..........] - ETA: 0s - loss: 0.1816 - acc: 0.9737Epoch 1/100\n",
      "26/3 [====================================================================================================================================================================================================================================================================] - 0s 4ms/sample - loss: 1.9385 - acc: 0.6923\n",
      "\n",
      "Epoch 00019: val_acc did not improve from 0.98077\n",
      "3/3 [==============================] - 0s 161ms/step - loss: 0.1077 - acc: 0.9857 - val_loss: 1.9385 - val_acc: 0.6923\n",
      "Epoch 20/100\n",
      "2/3 [===================>..........] - ETA: 0s - loss: 0.0701 - acc: 0.9688Epoch 1/100\n",
      "26/3 [====================================================================================================================================================================================================================================================================] - 0s 7ms/sample - loss: 4.0474 - acc: 0.7500\n",
      "\n",
      "Epoch 00020: val_acc did not improve from 0.98077\n",
      "3/3 [==============================] - 1s 190ms/step - loss: 0.0548 - acc: 0.9714 - val_loss: 2.2339 - val_acc: 0.7500\n",
      "Epoch 21/100\n",
      "2/3 [===================>..........] - ETA: 0s - loss: 0.0534 - acc: 1.0000Epoch 1/100\n",
      "26/3 [====================================================================================================================================================================================================================================================================] - 0s 5ms/sample - loss: 1.5120 - acc: 0.7692\n",
      "\n",
      "Epoch 00021: val_acc did not improve from 0.98077\n",
      "3/3 [==============================] - 0s 165ms/step - loss: 0.0428 - acc: 1.0000 - val_loss: 1.5120 - val_acc: 0.7692\n",
      "Epoch 22/100\n",
      "2/3 [===================>..........] - ETA: 0s - loss: 0.2701 - acc: 0.9474Epoch 1/100\n",
      "26/3 [====================================================================================================================================================================================================================================================================] - 0s 5ms/sample - loss: 1.3513 - acc: 0.7692\n",
      "\n",
      "Epoch 00022: val_acc did not improve from 0.98077\n",
      "3/3 [==============================] - 0s 160ms/step - loss: 0.1651 - acc: 0.9643 - val_loss: 1.3513 - val_acc: 0.7692\n",
      "Epoch 23/100\n",
      "2/3 [===================>..........] - ETA: 0s - loss: 0.0443 - acc: 0.9844Epoch 1/100\n",
      "26/3 [====================================================================================================================================================================================================================================================================] - 0s 4ms/sample - loss: 1.2202 - acc: 0.7692\n",
      "\n",
      "Epoch 00023: val_acc did not improve from 0.98077\n",
      "\n",
      "Epoch 00023: ReduceLROnPlateau reducing learning rate to 1.0000001111620805e-07.\n",
      "3/3 [==============================] - 1s 216ms/step - loss: 0.0527 - acc: 0.9844 - val_loss: 1.2202 - val_acc: 0.7692\n",
      "Epoch 24/100\n",
      "2/3 [===================>..........] - ETA: 0s - loss: 0.1504 - acc: 0.9297Epoch 1/100\n",
      "26/3 [====================================================================================================================================================================================================================================================================] - 0s 7ms/sample - loss: 3.0289 - acc: 0.7692\n",
      "\n",
      "Epoch 00024: val_acc did not improve from 0.98077\n",
      "3/3 [==============================] - 1s 185ms/step - loss: 0.1210 - acc: 0.9357 - val_loss: 1.5363 - val_acc: 0.7692\n",
      "Epoch 25/100\n",
      "2/3 [===================>..........] - ETA: 0s - loss: 0.0520 - acc: 0.9844Epoch 1/100\n",
      "26/3 [====================================================================================================================================================================================================================================================================] - 0s 5ms/sample - loss: 0.9938 - acc: 0.7692\n",
      "\n",
      "Epoch 00025: val_acc did not improve from 0.98077\n",
      "3/3 [==============================] - 1s 190ms/step - loss: 0.0471 - acc: 0.9896 - val_loss: 0.9938 - val_acc: 0.7692\n",
      "Epoch 26/100\n",
      "2/3 [===================>..........] - ETA: 0s - loss: 1.2187 - acc: 0.9605Epoch 1/100\n",
      "26/3 [====================================================================================================================================================================================================================================================================] - 0s 4ms/sample - loss: 0.8715 - acc: 0.7692\n",
      "\n",
      "Epoch 00026: val_acc did not improve from 0.98077\n",
      "3/3 [==============================] - 1s 204ms/step - loss: 0.7099 - acc: 0.9429 - val_loss: 0.8715 - val_acc: 0.7692\n",
      "Epoch 27/100\n",
      "2/3 [===================>..........] - ETA: 0s - loss: 0.0493 - acc: 1.0000Epoch 1/100\n",
      "26/3 [====================================================================================================================================================================================================================================================================] - 0s 4ms/sample - loss: 0.7879 - acc: 0.7692\n",
      "\n",
      "Epoch 00027: val_acc did not improve from 0.98077\n",
      "3/3 [==============================] - 0s 158ms/step - loss: 0.0556 - acc: 0.9857 - val_loss: 0.7879 - val_acc: 0.7692\n",
      "Epoch 28/100\n",
      "2/3 [===================>..........] - ETA: 0s - loss: 0.0476 - acc: 1.0000Epoch 1/100\n",
      "26/3 [====================================================================================================================================================================================================================================================================] - 0s 7ms/sample - loss: 2.3907 - acc: 0.7885\n"
     ]
    },
    {
     "name": "stdout",
     "output_type": "stream",
     "text": [
      "\n",
      "Epoch 00028: val_acc did not improve from 0.98077\n",
      "\n",
      "Epoch 00028: ReduceLROnPlateau reducing learning rate to 1.000000082740371e-08.\n",
      "3/3 [==============================] - 1s 178ms/step - loss: 0.0403 - acc: 1.0000 - val_loss: 1.1277 - val_acc: 0.7885\n",
      "Epoch 29/100\n",
      "2/3 [===================>..........] - ETA: 0s - loss: 0.0814 - acc: 0.9531Epoch 1/100\n",
      "26/3 [====================================================================================================================================================================================================================================================================] - 0s 4ms/sample - loss: 0.6690 - acc: 0.8077\n",
      "\n",
      "Epoch 00029: val_acc did not improve from 0.98077\n",
      "3/3 [==============================] - 1s 188ms/step - loss: 0.0635 - acc: 0.9688 - val_loss: 0.6690 - val_acc: 0.8077\n",
      "Epoch 30/100\n",
      "2/3 [===================>..........] - ETA: 0s - loss: 0.0393 - acc: 0.9737Epoch 1/100\n",
      "26/3 [====================================================================================================================================================================================================================================================================] - 0s 4ms/sample - loss: 0.6414 - acc: 0.8077\n",
      "\n",
      "Epoch 00030: val_acc did not improve from 0.98077\n",
      "3/3 [==============================] - 1s 179ms/step - loss: 0.0332 - acc: 0.9857 - val_loss: 0.6414 - val_acc: 0.8077\n",
      "Epoch 31/100\n",
      "2/3 [===================>..........] - ETA: 0s - loss: 0.0247 - acc: 1.0000Epoch 1/100\n",
      "26/3 [====================================================================================================================================================================================================================================================================] - 0s 4ms/sample - loss: 0.5723 - acc: 0.8077\n",
      "\n",
      "Epoch 00031: val_acc did not improve from 0.98077\n",
      "3/3 [==============================] - 1s 188ms/step - loss: 0.0263 - acc: 1.0000 - val_loss: 0.5723 - val_acc: 0.8077\n",
      "Epoch 32/100\n",
      "2/3 [===================>..........] - ETA: 0s - loss: 0.0457 - acc: 0.9844Epoch 1/100\n",
      "26/3 [====================================================================================================================================================================================================================================================================] - 0s 7ms/sample - loss: 1.9537 - acc: 0.8077\n",
      "\n",
      "Epoch 00032: val_acc did not improve from 0.98077\n",
      "3/3 [==============================] - 1s 182ms/step - loss: 0.0404 - acc: 0.9857 - val_loss: 0.8721 - val_acc: 0.8077\n",
      "Epoch 33/100\n",
      "2/3 [===================>..........] - ETA: 0s - loss: 0.0363 - acc: 0.9844Epoch 1/100\n",
      "26/3 [====================================================================================================================================================================================================================================================================] - 0s 7ms/sample - loss: 1.8458 - acc: 0.8077\n",
      "\n",
      "Epoch 00033: val_acc did not improve from 0.98077\n",
      "\n",
      "Epoch 00033: ReduceLROnPlateau reducing learning rate to 1.000000082740371e-09.\n",
      "3/3 [==============================] - 1s 180ms/step - loss: 0.0424 - acc: 0.9857 - val_loss: 0.8080 - val_acc: 0.8077\n",
      "Epoch 34/100\n",
      "2/3 [===================>..........] - ETA: 0s - loss: 0.0506 - acc: 0.9844Epoch 1/100\n",
      "26/3 [====================================================================================================================================================================================================================================================================] - 0s 5ms/sample - loss: 0.4590 - acc: 0.8077\n",
      "\n",
      "Epoch 00034: val_acc did not improve from 0.98077\n",
      "3/3 [==============================] - 1s 194ms/step - loss: 0.0701 - acc: 0.9688 - val_loss: 0.4590 - val_acc: 0.8077\n",
      "Epoch 35/100\n",
      "2/3 [===================>..........] - ETA: 0s - loss: 0.0426 - acc: 1.0000Epoch 1/100\n",
      "26/3 [====================================================================================================================================================================================================================================================================] - 0s 7ms/sample - loss: 1.6959 - acc: 0.8462\n",
      "\n",
      "Epoch 00035: val_acc did not improve from 0.98077\n",
      "3/3 [==============================] - 1s 169ms/step - loss: 0.1528 - acc: 0.9773 - val_loss: 0.7230 - val_acc: 0.8462\n",
      "Epoch 36/100\n",
      "2/3 [===================>..........] - ETA: 0s - loss: 0.0569 - acc: 0.9922Epoch 1/100\n",
      "26/3 [====================================================================================================================================================================================================================================================================] - 0s 4ms/sample - loss: 0.3879 - acc: 0.8846\n",
      "\n",
      "Epoch 00036: val_acc did not improve from 0.98077\n",
      "3/3 [==============================] - 1s 189ms/step - loss: 0.0465 - acc: 0.9948 - val_loss: 0.3879 - val_acc: 0.8846\n",
      "Epoch 37/100\n",
      "2/3 [===================>..........] - ETA: 0s - loss: 0.0507 - acc: 0.9737Epoch 1/100\n",
      "26/3 [====================================================================================================================================================================================================================================================================] - 0s 4ms/sample - loss: 0.3662 - acc: 0.8846\n",
      "\n",
      "Epoch 00037: val_acc did not improve from 0.98077\n",
      "3/3 [==============================] - 1s 168ms/step - loss: 0.0603 - acc: 0.9714 - val_loss: 0.3662 - val_acc: 0.8846\n",
      "Epoch 38/100\n",
      "2/3 [===================>..........] - ETA: 0s - loss: 0.0583 - acc: 0.9766Epoch 1/100\n",
      "26/3 [====================================================================================================================================================================================================================================================================] - 0s 7ms/sample - loss: 1.4481 - acc: 0.8846\n",
      "\n",
      "Epoch 00038: val_acc did not improve from 0.98077\n",
      "\n",
      "Epoch 00038: ReduceLROnPlateau reducing learning rate to 1.000000082740371e-10.\n",
      "3/3 [==============================] - 1s 192ms/step - loss: 0.0628 - acc: 0.9786 - val_loss: 0.5912 - val_acc: 0.8846\n",
      "Epoch 39/100\n",
      "2/3 [===================>..........] - ETA: 0s - loss: 0.0863 - acc: 0.9609Epoch 1/100\n",
      "26/3 [====================================================================================================================================================================================================================================================================] - 0s 4ms/sample - loss: 0.3084 - acc: 0.8846\n",
      "\n",
      "Epoch 00039: val_acc did not improve from 0.98077\n",
      "3/3 [==============================] - 1s 201ms/step - loss: 0.0784 - acc: 0.9740 - val_loss: 0.3084 - val_acc: 0.8846\n",
      "Epoch 40/100\n",
      "2/3 [===================>..........] - ETA: 0s - loss: 0.1051 - acc: 0.9688Epoch 1/100\n",
      "26/3 [====================================================================================================================================================================================================================================================================] - 0s 7ms/sample - loss: 1.3383 - acc: 0.8846\n",
      "\n",
      "Epoch 00040: val_acc did not improve from 0.98077\n",
      "3/3 [==============================] - 1s 178ms/step - loss: 0.1081 - acc: 0.9643 - val_loss: 0.5367 - val_acc: 0.8846\n",
      "Epoch 41/100\n",
      "2/3 [===================>..........] - ETA: 0s - loss: 0.2341 - acc: 0.9342Epoch 1/100\n",
      "26/3 [====================================================================================================================================================================================================================================================================] - 0s 4ms/sample - loss: 0.2599 - acc: 0.8846\n",
      "\n",
      "Epoch 00041: val_acc did not improve from 0.98077\n",
      "3/3 [==============================] - 0s 163ms/step - loss: 0.1520 - acc: 0.9643 - val_loss: 0.2599 - val_acc: 0.8846\n",
      "Epoch 42/100\n",
      "2/3 [===================>..........] - ETA: 0s - loss: 0.0392 - acc: 0.9922Epoch 1/100\n",
      "26/3 [====================================================================================================================================================================================================================================================================] - 0s 4ms/sample - loss: 0.2518 - acc: 0.8846\n"
     ]
    },
    {
     "name": "stdout",
     "output_type": "stream",
     "text": [
      "\n",
      "Epoch 00042: val_acc did not improve from 0.98077\n",
      "3/3 [==============================] - 1s 203ms/step - loss: 0.0330 - acc: 0.9948 - val_loss: 0.2518 - val_acc: 0.8846\n",
      "Epoch 43/100\n",
      "2/3 [===================>..........] - ETA: 0s - loss: 0.2190 - acc: 0.9737Epoch 1/100\n",
      "26/3 [====================================================================================================================================================================================================================================================================] - 0s 4ms/sample - loss: 0.2272 - acc: 0.9038\n",
      "\n",
      "Epoch 00043: val_acc did not improve from 0.98077\n",
      "\n",
      "Epoch 00043: ReduceLROnPlateau reducing learning rate to 1.000000082740371e-11.\n",
      "3/3 [==============================] - 0s 163ms/step - loss: 0.1361 - acc: 0.9857 - val_loss: 0.2272 - val_acc: 0.9038\n",
      "Epoch 44/100\n",
      "2/3 [===================>..........] - ETA: 0s - loss: 0.0362 - acc: 1.0000Epoch 1/100\n",
      "26/3 [====================================================================================================================================================================================================================================================================] - 0s 7ms/sample - loss: 1.1051 - acc: 0.9038\n",
      "\n",
      "Epoch 00044: val_acc did not improve from 0.98077\n",
      "3/3 [==============================] - 1s 178ms/step - loss: 0.0312 - acc: 1.0000 - val_loss: 0.4259 - val_acc: 0.9038\n",
      "Epoch 45/100\n",
      "2/3 [===================>..........] - ETA: 0s - loss: 0.0439 - acc: 0.9868Epoch 1/100\n",
      "26/3 [====================================================================================================================================================================================================================================================================] - 0s 4ms/sample - loss: 0.2051 - acc: 0.9423\n",
      "\n",
      "Epoch 00045: val_acc did not improve from 0.98077\n",
      "3/3 [==============================] - 0s 159ms/step - loss: 0.0627 - acc: 0.9857 - val_loss: 0.2051 - val_acc: 0.9423\n",
      "Epoch 46/100\n",
      "2/3 [===================>..........] - ETA: 0s - loss: 0.0718 - acc: 0.9737Epoch 1/100\n",
      "26/3 [====================================================================================================================================================================================================================================================================] - 0s 4ms/sample - loss: 0.2009 - acc: 0.9423\n",
      "\n",
      "Epoch 00046: val_acc did not improve from 0.98077\n",
      "3/3 [==============================] - 0s 163ms/step - loss: 0.0775 - acc: 0.9714 - val_loss: 0.2009 - val_acc: 0.9423\n",
      "Epoch 47/100\n",
      "2/3 [===================>..........] - ETA: 0s - loss: 0.1076 - acc: 0.9688Epoch 1/100\n",
      "26/3 [====================================================================================================================================================================================================================================================================] - 0s 4ms/sample - loss: 0.1934 - acc: 0.9423\n",
      "\n",
      "Epoch 00047: val_acc did not improve from 0.98077\n",
      "3/3 [==============================] - 1s 195ms/step - loss: 0.0804 - acc: 0.9792 - val_loss: 0.1934 - val_acc: 0.9423\n",
      "Epoch 48/100\n",
      "2/3 [===================>..........] - ETA: 0s - loss: 0.0363 - acc: 0.9922Epoch 1/100\n",
      "26/3 [====================================================================================================================================================================================================================================================================] - 0s 7ms/sample - loss: 0.9527 - acc: 0.9423\n",
      "\n",
      "Epoch 00048: val_acc did not improve from 0.98077\n",
      "\n",
      "Epoch 00048: ReduceLROnPlateau reducing learning rate to 1.000000082740371e-12.\n",
      "3/3 [==============================] - 1s 178ms/step - loss: 0.0536 - acc: 0.9857 - val_loss: 0.3615 - val_acc: 0.9423\n",
      "Epoch 49/100\n",
      "2/3 [===================>..........] - ETA: 0s - loss: 0.0390 - acc: 1.0000Epoch 1/100\n",
      "26/3 [====================================================================================================================================================================================================================================================================] - 0s 7ms/sample - loss: 0.8947 - acc: 0.9615\n",
      "\n",
      "Epoch 00049: val_acc did not improve from 0.98077\n",
      "3/3 [==============================] - 1s 178ms/step - loss: 0.0450 - acc: 1.0000 - val_loss: 0.3367 - val_acc: 0.9615\n",
      "Epoch 50/100\n",
      "2/3 [===================>..........] - ETA: 0s - loss: 0.2844 - acc: 0.9474Epoch 1/100\n",
      "26/3 [====================================================================================================================================================================================================================================================================] - 0s 4ms/sample - loss: 0.1570 - acc: 0.9615\n",
      "\n",
      "Epoch 00050: val_acc did not improve from 0.98077\n",
      "3/3 [==============================] - 0s 159ms/step - loss: 0.1934 - acc: 0.9571 - val_loss: 0.1570 - val_acc: 0.9615\n",
      "Epoch 51/100\n",
      "2/3 [===================>..........] - ETA: 0s - loss: 0.0502 - acc: 0.9844Epoch 1/100\n",
      "26/3 [====================================================================================================================================================================================================================================================================] - 0s 5ms/sample - loss: 0.1503 - acc: 0.9615\n",
      "\n",
      "Epoch 00051: val_acc did not improve from 0.98077\n",
      "3/3 [==============================] - 1s 195ms/step - loss: 0.0620 - acc: 0.9688 - val_loss: 0.1503 - val_acc: 0.9615\n",
      "Epoch 52/100\n",
      "2/3 [===================>..........] - ETA: 0s - loss: 0.0514 - acc: 1.0000Epoch 1/100\n",
      "26/3 [====================================================================================================================================================================================================================================================================] - 0s 4ms/sample - loss: 0.1469 - acc: 0.9615\n",
      "\n",
      "Epoch 00052: val_acc did not improve from 0.98077\n",
      "3/3 [==============================] - 0s 162ms/step - loss: 0.0364 - acc: 1.0000 - val_loss: 0.1469 - val_acc: 0.9615\n",
      "Epoch 53/100\n",
      "2/3 [===================>..........] - ETA: 0s - loss: 0.0309 - acc: 1.0000Epoch 1/100\n",
      "26/3 [====================================================================================================================================================================================================================================================================] - 0s 5ms/sample - loss: 0.1419 - acc: 0.9615\n",
      "\n",
      "Epoch 00053: val_acc did not improve from 0.98077\n",
      "\n",
      "Epoch 00053: ReduceLROnPlateau reducing learning rate to 1.0000001044244145e-13.\n",
      "3/3 [==============================] - 1s 193ms/step - loss: 0.0427 - acc: 0.9948 - val_loss: 0.1419 - val_acc: 0.9615\n",
      "Epoch 54/100\n",
      "2/3 [===================>..........] - ETA: 0s - loss: 0.0331 - acc: 1.0000Epoch 1/100\n",
      "26/3 [====================================================================================================================================================================================================================================================================] - 0s 4ms/sample - loss: 0.1345 - acc: 0.9615\n",
      "\n",
      "Epoch 00054: val_acc did not improve from 0.98077\n",
      "3/3 [==============================] - 1s 188ms/step - loss: 0.0327 - acc: 1.0000 - val_loss: 0.1345 - val_acc: 0.9615\n",
      "Epoch 55/100\n",
      "2/3 [===================>..........] - ETA: 0s - loss: 0.3984 - acc: 0.9211Epoch 1/100\n",
      "26/3 [====================================================================================================================================================================================================================================================================] - 0s 7ms/sample - loss: 0.7054 - acc: 0.9615\n",
      "\n",
      "Epoch 00055: val_acc did not improve from 0.98077\n",
      "3/3 [==============================] - 0s 149ms/step - loss: 0.2470 - acc: 0.9318 - val_loss: 0.2630 - val_acc: 0.9615\n",
      "Epoch 56/100\n",
      "2/3 [===================>..........] - ETA: 0s - loss: 0.0402 - acc: 0.9922Epoch 1/100\n",
      "26/3 [====================================================================================================================================================================================================================================================================] - 0s 4ms/sample - loss: 0.1228 - acc: 0.9615\n"
     ]
    },
    {
     "name": "stdout",
     "output_type": "stream",
     "text": [
      "\n",
      "Epoch 00056: val_acc did not improve from 0.98077\n",
      "3/3 [==============================] - 1s 188ms/step - loss: 0.0517 - acc: 0.9844 - val_loss: 0.1228 - val_acc: 0.9615\n",
      "Epoch 57/100\n",
      "2/3 [===================>..........] - ETA: 0s - loss: 0.0941 - acc: 0.9342Epoch 1/100\n",
      "26/3 [====================================================================================================================================================================================================================================================================] - 0s 4ms/sample - loss: 0.1197 - acc: 0.9615\n",
      "\n",
      "Epoch 00057: val_acc did not improve from 0.98077\n",
      "3/3 [==============================] - 0s 159ms/step - loss: 0.0807 - acc: 0.9643 - val_loss: 0.1197 - val_acc: 0.9615\n",
      "Epoch 58/100\n",
      "2/3 [===================>..........] - ETA: 0s - loss: 0.0591 - acc: 0.9844Epoch 1/100\n",
      "26/3 [====================================================================================================================================================================================================================================================================] - 0s 4ms/sample - loss: 0.1176 - acc: 0.9615\n",
      "\n",
      "Epoch 00058: val_acc did not improve from 0.98077\n",
      "\n",
      "Epoch 00058: ReduceLROnPlateau reducing learning rate to 1.0000001179769417e-14.\n",
      "3/3 [==============================] - 1s 200ms/step - loss: 0.0473 - acc: 0.9896 - val_loss: 0.1176 - val_acc: 0.9615\n",
      "Epoch 59/100\n",
      "2/3 [===================>..........] - ETA: 0s - loss: 0.0890 - acc: 0.9737Epoch 1/100\n",
      "26/3 [====================================================================================================================================================================================================================================================================] - 0s 4ms/sample - loss: 0.1128 - acc: 0.9615\n",
      "\n",
      "Epoch 00059: val_acc did not improve from 0.98077\n",
      "3/3 [==============================] - 1s 186ms/step - loss: 0.0919 - acc: 0.9714 - val_loss: 0.1128 - val_acc: 0.9615\n",
      "Epoch 60/100\n",
      "2/3 [===================>..........] - ETA: 0s - loss: 0.0682 - acc: 0.9688Epoch 1/100\n",
      "26/3 [====================================================================================================================================================================================================================================================================] - 0s 7ms/sample - loss: 0.5908 - acc: 0.9615\n",
      "\n",
      "Epoch 00060: val_acc did not improve from 0.98077\n",
      "3/3 [==============================] - 1s 178ms/step - loss: 0.0593 - acc: 0.9714 - val_loss: 0.2223 - val_acc: 0.9615\n",
      "Epoch 61/100\n",
      "2/3 [===================>..........] - ETA: 0s - loss: 0.0610 - acc: 0.9737Epoch 1/100\n",
      "26/3 [====================================================================================================================================================================================================================================================================] - 0s 4ms/sample - loss: 0.1068 - acc: 0.9615\n",
      "\n",
      "Epoch 00061: val_acc did not improve from 0.98077\n",
      "3/3 [==============================] - 0s 158ms/step - loss: 0.0465 - acc: 0.9857 - val_loss: 0.1068 - val_acc: 0.9615\n",
      "Epoch 62/100\n",
      "2/3 [===================>..........] - ETA: 0s - loss: 0.0682 - acc: 0.9844Epoch 1/100\n",
      "26/3 [====================================================================================================================================================================================================================================================================] - 0s 7ms/sample - loss: 0.5559 - acc: 0.9615\n",
      "\n",
      "Epoch 00062: val_acc did not improve from 0.98077\n",
      "3/3 [==============================] - 1s 183ms/step - loss: 0.0703 - acc: 0.9857 - val_loss: 0.2107 - val_acc: 0.9615\n",
      "Epoch 63/100\n",
      "2/3 [===================>..........] - ETA: 0s - loss: 0.0726 - acc: 0.9688Epoch 1/100\n",
      "26/3 [====================================================================================================================================================================================================================================================================] - 0s 4ms/sample - loss: 0.1036 - acc: 0.9615\n",
      "\n",
      "Epoch 00063: val_acc did not improve from 0.98077\n",
      "\n",
      "Epoch 00063: ReduceLROnPlateau reducing learning rate to 1.0000001518582595e-15.\n",
      "3/3 [==============================] - 1s 189ms/step - loss: 0.0920 - acc: 0.9583 - val_loss: 0.1036 - val_acc: 0.9615\n",
      "Epoch 64/100\n",
      "2/3 [===================>..........] - ETA: 0s - loss: 0.1008 - acc: 0.9605Epoch 1/100\n",
      "26/3 [====================================================================================================================================================================================================================================================================] - 0s 4ms/sample - loss: 0.1010 - acc: 0.9615\n",
      "\n",
      "Epoch 00064: val_acc did not improve from 0.98077\n",
      "3/3 [==============================] - 0s 158ms/step - loss: 0.0740 - acc: 0.9786 - val_loss: 0.1010 - val_acc: 0.9615\n",
      "Epoch 65/100\n",
      "2/3 [===================>..........] - ETA: 0s - loss: 0.0416 - acc: 1.0000Epoch 1/100\n",
      "26/3 [====================================================================================================================================================================================================================================================================] - 0s 4ms/sample - loss: 0.0981 - acc: 0.9615\n",
      "\n",
      "Epoch 00065: val_acc did not improve from 0.98077\n",
      "3/3 [==============================] - 0s 158ms/step - loss: 0.0407 - acc: 1.0000 - val_loss: 0.0981 - val_acc: 0.9615\n",
      "Epoch 66/100\n",
      "2/3 [===================>..........] - ETA: 0s - loss: 0.0312 - acc: 1.0000Epoch 1/100\n",
      "26/3 [====================================================================================================================================================================================================================================================================] - 0s 4ms/sample - loss: 0.0975 - acc: 0.9615\n",
      "\n",
      "Epoch 00066: val_acc did not improve from 0.98077\n",
      "3/3 [==============================] - 0s 159ms/step - loss: 0.0306 - acc: 1.0000 - val_loss: 0.0975 - val_acc: 0.9615\n",
      "Epoch 67/100\n",
      "2/3 [===================>..........] - ETA: 0s - loss: 0.0617 - acc: 0.9844Epoch 1/100\n",
      "26/3 [====================================================================================================================================================================================================================================================================] - 0s 7ms/sample - loss: 0.4994 - acc: 0.9615\n",
      "\n",
      "Epoch 00067: val_acc did not improve from 0.98077\n",
      "3/3 [==============================] - 1s 179ms/step - loss: 0.0812 - acc: 0.9857 - val_loss: 0.1925 - val_acc: 0.9615\n",
      "Epoch 68/100\n",
      "2/3 [===================>..........] - ETA: 0s - loss: 0.0508 - acc: 0.9844Epoch 1/100\n",
      "26/3 [====================================================================================================================================================================================================================================================================] - 0s 4ms/sample - loss: 0.0965 - acc: 0.9615\n",
      "\n",
      "Epoch 00068: val_acc did not improve from 0.98077\n",
      "\n",
      "Epoch 00068: ReduceLROnPlateau reducing learning rate to 1.0000001095066122e-16.\n",
      "3/3 [==============================] - 1s 189ms/step - loss: 0.0501 - acc: 0.9896 - val_loss: 0.0965 - val_acc: 0.9615\n",
      "Epoch 69/100\n",
      "2/3 [===================>..........] - ETA: 0s - loss: 0.0567 - acc: 0.9922Epoch 1/100\n",
      "26/3 [====================================================================================================================================================================================================================================================================] - 0s 7ms/sample - loss: 0.4737 - acc: 0.9615\n",
      "\n",
      "Epoch 00069: val_acc did not improve from 0.98077\n",
      "3/3 [==============================] - 1s 178ms/step - loss: 0.0455 - acc: 0.9929 - val_loss: 0.1846 - val_acc: 0.9615\n",
      "Epoch 70/100\n",
      "2/3 [===================>..........] - ETA: 0s - loss: 0.1144 - acc: 0.9766Epoch 1/100\n",
      "26/3 [====================================================================================================================================================================================================================================================================] - 0s 4ms/sample - loss: 0.0947 - acc: 0.9615\n"
     ]
    },
    {
     "name": "stdout",
     "output_type": "stream",
     "text": [
      "\n",
      "Epoch 00070: val_acc did not improve from 0.98077\n",
      "3/3 [==============================] - 1s 188ms/step - loss: 0.0860 - acc: 0.9844 - val_loss: 0.0947 - val_acc: 0.9615\n",
      "Epoch 71/100\n",
      "2/3 [===================>..........] - ETA: 0s - loss: 0.1587 - acc: 0.9342Epoch 1/100\n",
      "26/3 [====================================================================================================================================================================================================================================================================] - 0s 4ms/sample - loss: 0.0939 - acc: 0.9615\n",
      "\n",
      "Epoch 00071: val_acc did not improve from 0.98077\n",
      "3/3 [==============================] - 0s 160ms/step - loss: 0.1038 - acc: 0.9643 - val_loss: 0.0939 - val_acc: 0.9615\n",
      "Epoch 72/100\n",
      "2/3 [===================>..........] - ETA: 0s - loss: 0.0444 - acc: 0.9868Epoch 1/100\n",
      "26/3 [====================================================================================================================================================================================================================================================================] - 0s 4ms/sample - loss: 0.0923 - acc: 0.9615\n",
      "\n",
      "Epoch 00072: val_acc did not improve from 0.98077\n",
      "3/3 [==============================] - 0s 159ms/step - loss: 0.0368 - acc: 0.9929 - val_loss: 0.0923 - val_acc: 0.9615\n",
      "Epoch 73/100\n",
      "2/3 [===================>..........] - ETA: 0s - loss: 0.0185 - acc: 1.0000Epoch 1/100\n",
      "26/3 [====================================================================================================================================================================================================================================================================] - 0s 4ms/sample - loss: 0.0915 - acc: 0.9615\n",
      "\n",
      "Epoch 00073: val_acc did not improve from 0.98077\n",
      "\n",
      "Epoch 00073: ReduceLROnPlateau reducing learning rate to 1.0000000830368326e-17.\n",
      "3/3 [==============================] - 0s 160ms/step - loss: 0.0367 - acc: 0.9929 - val_loss: 0.0915 - val_acc: 0.9615\n",
      "Epoch 74/100\n",
      "2/3 [===================>..........] - ETA: 0s - loss: 0.0567 - acc: 1.0000Epoch 1/100\n",
      "26/3 [====================================================================================================================================================================================================================================================================] - 0s 4ms/sample - loss: 0.0896 - acc: 0.9615\n",
      "\n",
      "Epoch 00074: val_acc did not improve from 0.98077\n",
      "3/3 [==============================] - 0s 158ms/step - loss: 0.0590 - acc: 0.9857 - val_loss: 0.0896 - val_acc: 0.9615\n",
      "Epoch 75/100\n",
      "2/3 [===================>..........] - ETA: 0s - loss: 0.0381 - acc: 1.0000Epoch 1/100\n",
      "26/3 [====================================================================================================================================================================================================================================================================] - 0s 4ms/sample - loss: 0.0896 - acc: 0.9615\n",
      "\n",
      "Epoch 00075: val_acc did not improve from 0.98077\n",
      "3/3 [==============================] - 1s 188ms/step - loss: 0.0410 - acc: 1.0000 - val_loss: 0.0896 - val_acc: 0.9615\n",
      "Epoch 76/100\n",
      "2/3 [===================>..........] - ETA: 0s - loss: 0.0675 - acc: 0.9609Epoch 1/100\n",
      "26/3 [====================================================================================================================================================================================================================================================================] - 0s 7ms/sample - loss: 0.3886 - acc: 0.9615\n",
      "\n",
      "Epoch 00076: val_acc did not improve from 0.98077\n",
      "3/3 [==============================] - 1s 179ms/step - loss: 0.1286 - acc: 0.9500 - val_loss: 0.1575 - val_acc: 0.9615\n",
      "Epoch 77/100\n",
      "2/3 [===================>..........] - ETA: 0s - loss: 0.2099 - acc: 0.9737Epoch 1/100\n",
      "26/3 [====================================================================================================================================================================================================================================================================] - 0s 4ms/sample - loss: 0.0855 - acc: 0.9615\n",
      "\n",
      "Epoch 00077: val_acc did not improve from 0.98077\n",
      "3/3 [==============================] - 0s 159ms/step - loss: 0.1279 - acc: 0.9857 - val_loss: 0.0855 - val_acc: 0.9615\n",
      "Epoch 78/100\n",
      "2/3 [===================>..........] - ETA: 0s - loss: 0.0717 - acc: 0.9766Epoch 1/100\n",
      "26/3 [====================================================================================================================================================================================================================================================================] - 0s 4ms/sample - loss: 0.0842 - acc: 0.9615\n",
      "\n",
      "Epoch 00078: val_acc did not improve from 0.98077\n",
      "\n",
      "Epoch 00078: ReduceLROnPlateau reducing learning rate to 1.0000000664932204e-18.\n",
      "3/3 [==============================] - 1s 196ms/step - loss: 0.0731 - acc: 0.9688 - val_loss: 0.0842 - val_acc: 0.9615\n",
      "Epoch 79/100\n",
      "2/3 [===================>..........] - ETA: 0s - loss: 0.0461 - acc: 1.0000Epoch 1/100\n",
      "26/3 [====================================================================================================================================================================================================================================================================] - 0s 4ms/sample - loss: 0.0834 - acc: 0.9615\n",
      "\n",
      "Epoch 00079: val_acc did not improve from 0.98077\n",
      "3/3 [==============================] - 1s 199ms/step - loss: 0.0439 - acc: 0.9929 - val_loss: 0.0834 - val_acc: 0.9615\n",
      "Epoch 80/100\n",
      "2/3 [===================>..........] - ETA: 0s - loss: 0.0560 - acc: 0.9766Epoch 1/100\n",
      "26/3 [====================================================================================================================================================================================================================================================================] - 0s 7ms/sample - loss: 0.3518 - acc: 0.9615\n",
      "\n",
      "Epoch 00080: val_acc did not improve from 0.98077\n",
      "3/3 [==============================] - 1s 179ms/step - loss: 0.0451 - acc: 0.9786 - val_loss: 0.1456 - val_acc: 0.9615\n",
      "Epoch 81/100\n",
      "2/3 [===================>..........] - ETA: 0s - loss: 0.0800 - acc: 0.9766Epoch 1/100\n",
      "26/3 [====================================================================================================================================================================================================================================================================] - 0s 5ms/sample - loss: 0.0813 - acc: 0.9615\n",
      "\n",
      "Epoch 00081: val_acc did not improve from 0.98077\n",
      "3/3 [==============================] - 1s 190ms/step - loss: 0.0706 - acc: 0.9792 - val_loss: 0.0813 - val_acc: 0.9615\n",
      "Epoch 82/100\n",
      "2/3 [===================>..........] - ETA: 0s - loss: 0.1078 - acc: 0.9737Epoch 1/100\n",
      "26/3 [====================================================================================================================================================================================================================================================================] - 0s 7ms/sample - loss: 0.3425 - acc: 0.9615\n",
      "\n",
      "Epoch 00082: val_acc did not improve from 0.98077\n",
      "3/3 [==============================] - 1s 184ms/step - loss: 0.0741 - acc: 0.9773 - val_loss: 0.1428 - val_acc: 0.9615\n",
      "Epoch 83/100\n",
      "2/3 [===================>..........] - ETA: 0s - loss: 0.0328 - acc: 1.0000Epoch 1/100\n",
      "26/3 [====================================================================================================================================================================================================================================================================] - 0s 5ms/sample - loss: 0.0805 - acc: 0.9615\n",
      "\n",
      "Epoch 00083: val_acc did not improve from 0.98077\n",
      "\n",
      "Epoch 00083: ReduceLROnPlateau reducing learning rate to 1.000000045813705e-19.\n",
      "3/3 [==============================] - 1s 197ms/step - loss: 0.0353 - acc: 0.9948 - val_loss: 0.0805 - val_acc: 0.9615\n",
      "Epoch 84/100\n",
      "2/3 [===================>..........] - ETA: 0s - loss: 0.1126 - acc: 0.9605Epoch 1/100\n",
      "26/3 [====================================================================================================================================================================================================================================================================] - 0s 4ms/sample - loss: 0.0797 - acc: 0.9615\n"
     ]
    },
    {
     "name": "stdout",
     "output_type": "stream",
     "text": [
      "\n",
      "Epoch 00084: val_acc did not improve from 0.98077\n",
      "3/3 [==============================] - 0s 162ms/step - loss: 0.0856 - acc: 0.9786 - val_loss: 0.0797 - val_acc: 0.9615\n",
      "Epoch 85/100\n",
      "2/3 [===================>..........] - ETA: 0s - loss: 0.0465 - acc: 0.9844Epoch 1/100\n",
      "26/3 [====================================================================================================================================================================================================================================================================] - 0s 4ms/sample - loss: 0.0790 - acc: 0.9615\n",
      "\n",
      "Epoch 00085: val_acc did not improve from 0.98077\n",
      "3/3 [==============================] - 1s 191ms/step - loss: 0.0412 - acc: 0.9896 - val_loss: 0.0790 - val_acc: 0.9615\n",
      "Epoch 86/100\n",
      "2/3 [===================>..........] - ETA: 0s - loss: 0.0360 - acc: 1.0000Epoch 1/100\n",
      "26/3 [====================================================================================================================================================================================================================================================================] - 0s 4ms/sample - loss: 0.0781 - acc: 0.9615\n",
      "\n",
      "Epoch 00086: val_acc did not improve from 0.98077\n",
      "3/3 [==============================] - 1s 189ms/step - loss: 0.0510 - acc: 0.9786 - val_loss: 0.0781 - val_acc: 0.9615\n",
      "Epoch 87/100\n",
      "2/3 [===================>..........] - ETA: 0s - loss: 0.1537 - acc: 0.9605Epoch 1/100\n",
      "26/3 [====================================================================================================================================================================================================================================================================] - 0s 4ms/sample - loss: 0.0776 - acc: 0.9615\n",
      "\n",
      "Epoch 00087: val_acc did not improve from 0.98077\n",
      "3/3 [==============================] - 1s 182ms/step - loss: 0.1124 - acc: 0.9643 - val_loss: 0.0776 - val_acc: 0.9615\n",
      "Epoch 88/100\n",
      "2/3 [===================>..........] - ETA: 0s - loss: 0.3690 - acc: 0.9605Epoch 1/100\n",
      "26/3 [====================================================================================================================================================================================================================================================================] - 0s 5ms/sample - loss: 0.0777 - acc: 0.9615\n",
      "\n",
      "Epoch 00088: val_acc did not improve from 0.98077\n",
      "\n",
      "Epoch 00088: ReduceLROnPlateau reducing learning rate to 1.000000032889008e-20.\n",
      "3/3 [==============================] - 0s 161ms/step - loss: 0.2154 - acc: 0.9786 - val_loss: 0.0777 - val_acc: 0.9615\n",
      "Epoch 89/100\n",
      "2/3 [===================>..........] - ETA: 0s - loss: 0.0481 - acc: 0.9844Epoch 1/100\n",
      "26/3 [====================================================================================================================================================================================================================================================================] - 0s 5ms/sample - loss: 0.0772 - acc: 0.9615\n",
      "\n",
      "Epoch 00089: val_acc did not improve from 0.98077\n",
      "3/3 [==============================] - 1s 201ms/step - loss: 0.0605 - acc: 0.9792 - val_loss: 0.0772 - val_acc: 0.9615\n",
      "Epoch 90/100\n",
      "2/3 [===================>..........] - ETA: 0s - loss: 0.1017 - acc: 0.9868Epoch 1/100\n",
      "26/3 [====================================================================================================================================================================================================================================================================] - 0s 5ms/sample - loss: 0.0764 - acc: 0.9615\n",
      "\n",
      "Epoch 00090: val_acc did not improve from 0.98077\n",
      "3/3 [==============================] - 1s 220ms/step - loss: 0.0635 - acc: 0.9929 - val_loss: 0.0764 - val_acc: 0.9615\n",
      "Epoch 91/100\n",
      "2/3 [===================>..........] - ETA: 0s - loss: 0.0560 - acc: 0.9474Epoch 1/100\n",
      "26/3 [====================================================================================================================================================================================================================================================================] - 0s 7ms/sample - loss: 0.2997 - acc: 0.9615\n",
      "\n",
      "Epoch 00091: val_acc did not improve from 0.98077\n",
      "3/3 [==============================] - 0s 154ms/step - loss: 0.0521 - acc: 0.9545 - val_loss: 0.1290 - val_acc: 0.9615\n",
      "Epoch 92/100\n",
      "2/3 [===================>..........] - ETA: 0s - loss: 0.0450 - acc: 0.9844Epoch 1/100\n",
      "26/3 [====================================================================================================================================================================================================================================================================] - 0s 5ms/sample - loss: 0.0758 - acc: 0.9615\n",
      "\n",
      "Epoch 00092: val_acc did not improve from 0.98077\n",
      "3/3 [==============================] - 1s 190ms/step - loss: 0.0465 - acc: 0.9896 - val_loss: 0.0758 - val_acc: 0.9615\n",
      "Epoch 93/100\n",
      "2/3 [===================>..........] - ETA: 0s - loss: 0.0336 - acc: 1.0000Epoch 1/100\n",
      "26/3 [====================================================================================================================================================================================================================================================================] - 0s 5ms/sample - loss: 0.0754 - acc: 0.9615\n",
      "\n",
      "Epoch 00093: val_acc did not improve from 0.98077\n",
      "\n",
      "Epoch 00093: ReduceLROnPlateau reducing learning rate to 1.0000000490448793e-21.\n",
      "3/3 [==============================] - 1s 194ms/step - loss: 0.0425 - acc: 0.9896 - val_loss: 0.0754 - val_acc: 0.9615\n",
      "Epoch 94/100\n",
      "2/3 [===================>..........] - ETA: 0s - loss: 0.0809 - acc: 1.0000Epoch 1/100\n",
      "26/3 [====================================================================================================================================================================================================================================================================] - 0s 5ms/sample - loss: 0.0760 - acc: 0.9615\n",
      "\n",
      "Epoch 00094: val_acc did not improve from 0.98077\n",
      "3/3 [==============================] - 1s 168ms/step - loss: 0.0556 - acc: 1.0000 - val_loss: 0.0760 - val_acc: 0.9615\n",
      "Epoch 95/100\n",
      "2/3 [===================>..........] - ETA: 0s - loss: 0.0346 - acc: 0.9922Epoch 1/100\n",
      "26/3 [====================================================================================================================================================================================================================================================================] - 0s 7ms/sample - loss: 0.2925 - acc: 0.9615\n",
      "\n",
      "Epoch 00095: val_acc did not improve from 0.98077\n",
      "3/3 [==============================] - 1s 181ms/step - loss: 0.0347 - acc: 0.9929 - val_loss: 0.1263 - val_acc: 0.9615\n",
      "Epoch 96/100\n",
      "2/3 [===================>..........] - ETA: 0s - loss: 0.0775 - acc: 0.9766Epoch 1/100\n",
      "26/3 [====================================================================================================================================================================================================================================================================] - 0s 4ms/sample - loss: 0.0748 - acc: 0.9615\n",
      "\n",
      "Epoch 00096: val_acc did not improve from 0.98077\n",
      "3/3 [==============================] - 1s 190ms/step - loss: 0.1131 - acc: 0.9531 - val_loss: 0.0748 - val_acc: 0.9615\n",
      "Epoch 97/100\n",
      "2/3 [===================>..........] - ETA: 0s - loss: 0.0303 - acc: 0.9868Epoch 1/100\n",
      "26/3 [====================================================================================================================================================================================================================================================================] - 0s 5ms/sample - loss: 0.0736 - acc: 0.9615\n",
      "\n",
      "Epoch 00097: val_acc did not improve from 0.98077\n",
      "3/3 [==============================] - 0s 162ms/step - loss: 0.0469 - acc: 0.9857 - val_loss: 0.0736 - val_acc: 0.9615\n",
      "Epoch 98/100\n",
      "2/3 [===================>..........] - ETA: 0s - loss: 0.0535 - acc: 1.0000Epoch 1/100\n",
      "26/3 [====================================================================================================================================================================================================================================================================] - 0s 5ms/sample - loss: 0.0738 - acc: 0.9615\n"
     ]
    },
    {
     "name": "stdout",
     "output_type": "stream",
     "text": [
      "\n",
      "Epoch 00098: val_acc did not improve from 0.98077\n",
      "\n",
      "Epoch 00098: ReduceLROnPlateau reducing learning rate to 1.0000000692397185e-22.\n",
      "3/3 [==============================] - 1s 212ms/step - loss: 0.0629 - acc: 0.9844 - val_loss: 0.0738 - val_acc: 0.9615\n",
      "Epoch 99/100\n",
      "2/3 [===================>..........] - ETA: 0s - loss: 0.1164 - acc: 0.9737Epoch 1/100\n",
      "26/3 [====================================================================================================================================================================================================================================================================] - 0s 5ms/sample - loss: 0.0730 - acc: 0.9615\n",
      "\n",
      "Epoch 00099: val_acc did not improve from 0.98077\n",
      "3/3 [==============================] - 1s 215ms/step - loss: 0.0846 - acc: 0.9857 - val_loss: 0.0730 - val_acc: 0.9615\n",
      "Epoch 100/100\n",
      "2/3 [===================>..........] - ETA: 0s - loss: 0.0553 - acc: 1.0000Epoch 1/100\n",
      "26/3 [====================================================================================================================================================================================================================================================================] - 0s 5ms/sample - loss: 0.0722 - acc: 0.9615\n",
      "\n",
      "Epoch 00100: val_acc did not improve from 0.98077\n",
      "3/3 [==============================] - 1s 167ms/step - loss: 0.0558 - acc: 0.9857 - val_loss: 0.0722 - val_acc: 0.9615\n"
     ]
    }
   ],
   "source": [
    "history = model.fit_generator(\n",
    "                              data_aug,\n",
    "                              steps_per_epoch=len(trainX)// batch_size, # parte inteira da divisão\n",
    "                              validation_data=(testX, testY),\n",
    "                              validation_steps=len(testX) // batch_size,# parte inteira da divisão\n",
    "                              callbacks=callbacks,\n",
    "                              epochs=epoch)\n",
    "\n"
   ]
  },
  {
   "cell_type": "markdown",
   "metadata": {},
   "source": [
    "# ANALISANDO DADOS"
   ]
  },
  {
   "cell_type": "code",
   "execution_count": 47,
   "metadata": {},
   "outputs": [],
   "source": [
    "import matplotlib.pyplot as plt\n",
    "%matplotlib inline"
   ]
  },
  {
   "cell_type": "code",
   "execution_count": 48,
   "metadata": {},
   "outputs": [
    {
     "data": {
      "image/png": "[encoded data removed]",
      "text/plain": [
       "<Figure size 432x288 with 1 Axes>"
      ]
     },
     "metadata": {
      "needs_background": "light"
     },
     "output_type": "display_data"
    },
    {
     "data": {
      "image/png": "[encoded data removed]",
      "text/plain": [
       "<Figure size 432x288 with 1 Axes>"
      ]
     },
     "metadata": {
      "needs_background": "light"
     },
     "output_type": "display_data"
    }
   ],
   "source": [
    "plt.plot(history.history['acc'])\n",
    "plt.plot(history.history['val_acc'])\n",
    "plt.title('model accuracy')\n",
    "plt.ylabel('accuracy')\n",
    "plt.xlabel('epoch')\n",
    "plt.legend(['train', 'test'], loc='upper left')\n",
    "plt.show()\n",
    "# summarize history for loss\n",
    "plt.plot(history.history['loss'])\n",
    "plt.plot(history.history['val_loss'])\n",
    "plt.title('model loss')\n",
    "plt.ylabel('loss')\n",
    "plt.xlabel('epoch')\n",
    "plt.legend(['train', 'test'], loc='upper left')\n",
    "plt.show()"
   ]
  },
  {
   "cell_type": "markdown",
   "metadata": {},
   "source": [
    "## Gerando matriz de confusão"
   ]
  },
  {
   "cell_type": "code",
   "execution_count": 49,
   "metadata": {},
   "outputs": [],
   "source": [
    "from sklearn.metrics import confusion_matrix\n",
    "pred = model.predict(testX)\n",
    "pred = np.argmax(pred,axis = 1) \n",
    "y_true = np.argmax(testY,axis = 1)"
   ]
  },
  {
   "cell_type": "code",
   "execution_count": 50,
   "metadata": {},
   "outputs": [
    {
     "name": "stdout",
     "output_type": "stream",
     "text": [
      "Acurácia: 0.9615\n",
      "Sensitividade: 1.0000\n",
      "Especificidade: 0.9231\n"
     ]
    },
    {
     "data": {
      "image/png": "[encoded data removed]",
      "text/plain": [
       "<Figure size 360x360 with 1 Axes>"
      ]
     },
     "metadata": {
      "needs_background": "light"
     },
     "output_type": "display_data"
    }
   ],
   "source": [
    "cm = confusion_matrix(y_true, pred)\n",
    "total = sum(sum(cm))\n",
    "acc = (cm[0, 0] + cm[1, 1]) / total\n",
    "sensitivity = cm[0, 0] / (cm[0, 0] + cm[0, 1])\n",
    "specificity = cm[1, 1] / (cm[1, 0] + cm[1, 1])\n",
    "\n",
    "print(\"Acurácia: {:.4f}\".format(acc))\n",
    "print(\"Sensitividade: {:.4f}\".format(sensitivity))\n",
    "print(\"Especificidade: {:.4f}\".format(specificity))\n",
    "\n",
    "from mlxtend.plotting import plot_confusion_matrix\n",
    "fig, ax = plot_confusion_matrix(conf_mat=cm ,  figsize=(5, 5))\n",
    "plt.show()"
   ]
  },
  {
   "cell_type": "markdown",
   "metadata": {},
   "source": [
    "### **Detector COVID-19 automático 96,15% de Acurácia.**"
   ]
  },
  {
   "cell_type": "markdown",
   "metadata": {},
   "source": [
    "Também estamos obtendo 100% de sensibilidade e 92% de especificidade, o que implica que:\n",
    "\n",
    "- Sensibilidade, capacidade indentificar caso positivo de COVID-19 com o modelo é de 100%.\n",
    "\n",
    "\n",
    "- Especificidade, capacidade indentificar caso Não-Positivo de COVID-19 com o modelo é de 92,31%.\n",
    "\n",
    "\n",
    "- Como mostra nosso gráfico de histórico de treinamento, nossa rede não está adaptando demais, apesar de ter dados de treinamento limitado"
   ]
  }
 ],
 "metadata": {
  "kernelspec": {
   "display_name": "Python 3",
   "language": "python",
   "name": "python3"
  },
  "language_info": {
   "codemirror_mode": {
    "name": "ipython",
    "version": 3
   },
   "file_extension": ".py",
   "mimetype": "text/x-python",
   "name": "python",
   "nbconvert_exporter": "python",
   "pygments_lexer": "ipython3",
   "version": "3.7.6"
  }
 },
 "nbformat": 4,
 "nbformat_minor": 2
}
